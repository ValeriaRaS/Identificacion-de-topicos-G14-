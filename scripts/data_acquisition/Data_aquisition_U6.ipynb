{
  "cells": [
    {
      "cell_type": "code",
      "source": [
        "# Importar librerías necesarias\n",
        "import tensorflow as tf\n",
        "import numpy as np\n",
        "import pandas as pd\n",
        "import matplotlib.pyplot as plt\n",
        "import os, random"
      ],
      "metadata": {
        "id": "SGnbBHOuHV3b"
      },
      "id": "SGnbBHOuHV3b",
      "execution_count": null,
      "outputs": []
    },
    {
      "cell_type": "code",
      "source": [
        "# Carga de datos\n",
        "from google.colab import drive\n",
        "drive.mount('/content/drive')"
      ],
      "metadata": {
        "colab": {
          "base_uri": "https://localhost:8080/"
        },
        "id": "HkQeztLALsG7",
        "outputId": "c8cdd49f-f48d-4b5c-9ceb-4168ef6de041"
      },
      "id": "HkQeztLALsG7",
      "execution_count": null,
      "outputs": [
        {
          "output_type": "stream",
          "name": "stdout",
          "text": [
            "Mounted at /content/drive\n"
          ]
        }
      ]
    },
    {
      "cell_type": "code",
      "execution_count": null,
      "id": "1b580368",
      "metadata": {
        "id": "1b580368"
      },
      "outputs": [],
      "source": [
        "# Carga de datos: conjunto de entrenamiento\n",
        "\n",
        "all_images = []\n",
        "labels = []\n",
        "for i, val in enumerate([\"blasti/\", \"bonegl/\", \"brhkyt/\", \"cbrtsh/\", \"cmnmyn/\", \"gretit/\", \"hilpig/\", \"himbul/\", \"himgri/\", \"hsparo/\", \"indvul/\", \"jglowl/\", \"lbicrw/\", \"mgprob/\", \"rebimg/\", \"wcrsrt/\"]):\n",
        "    temp_path = f\"/content/drive/MyDrive/Birds_Images/train_data/{val}\"\n",
        "    for im_path in os.listdir(temp_path):\n",
        "        all_images.append(np.array(tf.keras.preprocessing.image.load_img(temp_path+im_path,\n",
        "                                                                         target_size=(224, 224, 3))))\n",
        "        labels.append(i)\n",
        "X_train = np.array(all_images)\n",
        "y_train = np.array(labels)"
      ]
    },
    {
      "cell_type": "code",
      "source": [
        "# carga de datos: conjunto de validación\n",
        "all_images = []\n",
        "labels = []\n",
        "for i,val in enumerate([\"blasti/\", \"bonegl/\", \"brhkyt/\", \"cbrtsh/\", \"cmnmyn/\", \"gretit/\", \"hilpig/\", \"himbul/\", \"himgri/\", \"hsparo/\", \"indvul/\", \"jglowl/\", \"lbicrw/\", \"mgprob/\", \"rebimg/\", \"wcrsrt/\"]):\n",
        "    temp_path = f\"/content/drive/MyDrive/Birds_Images/test_data/{val}\"\n",
        "    for im_path in os.listdir(temp_path):\n",
        "        all_images.append(np.array(tf.keras.preprocessing.image.load_img(temp_path+im_path,\n",
        "                                                                         target_size=(224, 224, 3))))\n",
        "        labels.append(i)\n",
        "X_val = np.array(all_images)\n",
        "y_val = np.array(labels)"
      ],
      "metadata": {
        "id": "6K-k_oF9Hs0F"
      },
      "id": "6K-k_oF9Hs0F",
      "execution_count": null,
      "outputs": []
    },
    {
      "cell_type": "code",
      "source": [
        "# Tamaño de conjunto entrenamiento\n",
        "X_train.shape"
      ],
      "metadata": {
        "colab": {
          "base_uri": "https://localhost:8080/"
        },
        "id": "Eyuv6VSCIOC6",
        "outputId": "9f8fa127-9437-4456-9093-1874e4556392"
      },
      "id": "Eyuv6VSCIOC6",
      "execution_count": null,
      "outputs": [
        {
          "output_type": "execute_result",
          "data": {
            "text/plain": [
              "(150, 224, 224, 3)"
            ]
          },
          "metadata": {},
          "execution_count": 7
        }
      ]
    },
    {
      "cell_type": "code",
      "source": [
        "# Tamaño de conjunto validación\n",
        "X_val.shape"
      ],
      "metadata": {
        "colab": {
          "base_uri": "https://localhost:8080/"
        },
        "id": "0dzDj7jGIU6B",
        "outputId": "76e94df0-6385-4617-aaee-d37c1887d0da"
      },
      "id": "0dzDj7jGIU6B",
      "execution_count": null,
      "outputs": [
        {
          "output_type": "execute_result",
          "data": {
            "text/plain": [
              "(157, 224, 224, 3)"
            ]
          },
          "metadata": {},
          "execution_count": 8
        }
      ]
    }
  ],
  "metadata": {
    "jupytext": {
      "cell_metadata_filter": "-all"
    },
    "kernelspec": {
      "display_name": "Python 3 (ipykernel)",
      "language": "python",
      "name": "python3"
    },
    "colab": {
      "provenance": []
    }
  },
  "nbformat": 4,
  "nbformat_minor": 5
}