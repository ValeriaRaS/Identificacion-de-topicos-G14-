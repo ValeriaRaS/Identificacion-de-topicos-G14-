{
  "nbformat": 4,
  "nbformat_minor": 0,
  "metadata": {
    "colab": {
      "provenance": []
    },
    "kernelspec": {
      "name": "python3",
      "display_name": "Python 3"
    },
    "language_info": {
      "name": "python"
    }
  },
  "cells": [
    {
      "cell_type": "code",
      "source": [
        "# Comentarios Bajos\n",
        "import requests\n",
        "\n",
        "url = \"https://8e26-35-188-247-199.ngrok-free.app//predict_topic/\"\n",
        "payload = {\"texto\": \"la cerveza llego caliente.\", \"modelo\": \"bajos\"}\n",
        "\n",
        "response = requests.post(url, json=payload)\n",
        "print(\"Estado:\", response.status_code)\n",
        "print(\"Respuesta:\", response.json())"
      ],
      "metadata": {
        "colab": {
          "base_uri": "https://localhost:8080/"
        },
        "id": "dl_kdpskHbBo",
        "outputId": "6b3198c4-024b-4ae9-cb2c-abcc824fe851"
      },
      "execution_count": 9,
      "outputs": [
        {
          "output_type": "stream",
          "name": "stdout",
          "text": [
            "Estado: 200\n",
            "Respuesta: {'modelo': 'bajos', 'tópico_dominante': 6, 'distribución_tópicos': [[0.045455107469352954, 0.045455223860774954, 0.045454605758458604, 0.04735178373768139, 0.0454547892720271, 0.04545473951690571, 0.7253737503847992]]}\n"
          ]
        }
      ]
    },
    {
      "cell_type": "code",
      "source": [
        "# Comentarios Altos\n",
        "import requests\n",
        "\n",
        "url = \"https://8e26-35-188-247-199.ngrok-free.app//predict_topic/\"\n",
        "payload = {\"texto\": \"la cerveza llego fria y a tiempo.\", \"modelo\": \"altos\"}\n",
        "\n",
        "response = requests.post(url, json=payload)\n",
        "print(\"Estado:\", response.status_code)\n",
        "print(\"Respuesta:\", response.json())"
      ],
      "metadata": {
        "colab": {
          "base_uri": "https://localhost:8080/"
        },
        "id": "S5jajxUWNl_R",
        "outputId": "1dac5dc7-a9f7-448b-db6b-68ee7bfb6e14"
      },
      "execution_count": 10,
      "outputs": [
        {
          "output_type": "stream",
          "name": "stdout",
          "text": [
            "Estado: 200\n",
            "Respuesta: {'modelo': 'altos', 'tópico_dominante': 0, 'distribución_tópicos': [[0.3522688092739387, 0.03125807424194483, 0.3369878819021211, 0.18504108555830118, 0.031275604170353494, 0.03127072527453898, 0.031897819578801806]]}\n"
          ]
        }
      ]
    },
    {
      "cell_type": "code",
      "source": [
        "# Comentarios completos\n",
        "import requests\n",
        "\n",
        "url = \"https://8e26-35-188-247-199.ngrok-free.app//predict_topic/\"\n",
        "payload = {\"texto\": \"la promocion fue perfecta.\", \"modelo\": \"todos\"}\n",
        "\n",
        "response = requests.post(url, json=payload)\n",
        "print(\"Estado:\", response.status_code)\n",
        "print(\"Respuesta:\", response.json())"
      ],
      "metadata": {
        "colab": {
          "base_uri": "https://localhost:8080/"
        },
        "id": "jY72DQOBNoyJ",
        "outputId": "040166b2-d99b-47d9-b0d8-3102e7d0d687"
      },
      "execution_count": 11,
      "outputs": [
        {
          "output_type": "stream",
          "name": "stdout",
          "text": [
            "Estado: 200\n",
            "Respuesta: {'modelo': 'todos', 'tópico_dominante': 4, 'distribución_tópicos': [[0.02500000004730172, 0.02500048073095724, 0.02500000010580869, 0.025002910440215135, 0.27500124453622543, 0.025000000097008278, 0.27499555757625727, 0.02500000069295602, 0.2749998057023204, 0.025000000070949928]]}\n"
          ]
        }
      ]
    }
  ]
}